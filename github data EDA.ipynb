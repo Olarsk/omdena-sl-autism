{
 "cells": [
  {
   "cell_type": "markdown",
   "metadata": {},
   "source": []
  },
  {
   "cell_type": "code",
   "execution_count": 45,
   "metadata": {},
   "outputs": [
    {
     "data": {
      "text/html": [
       "<div>\n",
       "<style scoped>\n",
       "    .dataframe tbody tr th:only-of-type {\n",
       "        vertical-align: middle;\n",
       "    }\n",
       "\n",
       "    .dataframe tbody tr th {\n",
       "        vertical-align: top;\n",
       "    }\n",
       "\n",
       "    .dataframe thead th {\n",
       "        text-align: right;\n",
       "    }\n",
       "</style>\n",
       "<table border=\"1\" class=\"dataframe\">\n",
       "  <thead>\n",
       "    <tr style=\"text-align: right;\">\n",
       "      <th></th>\n",
       "      <th>CASE_NO_PATIENT'S</th>\n",
       "      <th>A1</th>\n",
       "      <th>A2</th>\n",
       "      <th>A3</th>\n",
       "      <th>A4</th>\n",
       "      <th>A5</th>\n",
       "      <th>A6</th>\n",
       "      <th>A7</th>\n",
       "      <th>A8</th>\n",
       "      <th>A9</th>\n",
       "      <th>...</th>\n",
       "      <th>Global developmental delay/intellectual disability</th>\n",
       "      <th>Social/Behavioural Issues</th>\n",
       "      <th>Childhood Autism Rating Scale</th>\n",
       "      <th>Anxiety_disorder</th>\n",
       "      <th>Sex</th>\n",
       "      <th>Ethnicity</th>\n",
       "      <th>Jaundice</th>\n",
       "      <th>Family_mem_with_ASD</th>\n",
       "      <th>Who_completed_the_test</th>\n",
       "      <th>ASD_traits</th>\n",
       "    </tr>\n",
       "  </thead>\n",
       "  <tbody>\n",
       "    <tr>\n",
       "      <th>0</th>\n",
       "      <td>1</td>\n",
       "      <td>0</td>\n",
       "      <td>0</td>\n",
       "      <td>0</td>\n",
       "      <td>0</td>\n",
       "      <td>0</td>\n",
       "      <td>0</td>\n",
       "      <td>1</td>\n",
       "      <td>1</td>\n",
       "      <td>0</td>\n",
       "      <td>...</td>\n",
       "      <td>Yes</td>\n",
       "      <td>Yes</td>\n",
       "      <td>1</td>\n",
       "      <td>Yes</td>\n",
       "      <td>F</td>\n",
       "      <td>middle eastern</td>\n",
       "      <td>Yes</td>\n",
       "      <td>No</td>\n",
       "      <td>Family Member</td>\n",
       "      <td>No</td>\n",
       "    </tr>\n",
       "    <tr>\n",
       "      <th>1</th>\n",
       "      <td>2</td>\n",
       "      <td>1</td>\n",
       "      <td>1</td>\n",
       "      <td>0</td>\n",
       "      <td>0</td>\n",
       "      <td>0</td>\n",
       "      <td>1</td>\n",
       "      <td>1</td>\n",
       "      <td>0</td>\n",
       "      <td>0</td>\n",
       "      <td>...</td>\n",
       "      <td>Yes</td>\n",
       "      <td>Yes</td>\n",
       "      <td>2</td>\n",
       "      <td>Yes</td>\n",
       "      <td>M</td>\n",
       "      <td>White European</td>\n",
       "      <td>Yes</td>\n",
       "      <td>No</td>\n",
       "      <td>Family Member</td>\n",
       "      <td>Yes</td>\n",
       "    </tr>\n",
       "    <tr>\n",
       "      <th>2</th>\n",
       "      <td>3</td>\n",
       "      <td>1</td>\n",
       "      <td>0</td>\n",
       "      <td>0</td>\n",
       "      <td>0</td>\n",
       "      <td>0</td>\n",
       "      <td>0</td>\n",
       "      <td>1</td>\n",
       "      <td>1</td>\n",
       "      <td>0</td>\n",
       "      <td>...</td>\n",
       "      <td>Yes</td>\n",
       "      <td>Yes</td>\n",
       "      <td>4</td>\n",
       "      <td>Yes</td>\n",
       "      <td>M</td>\n",
       "      <td>Middle Eastern</td>\n",
       "      <td>Yes</td>\n",
       "      <td>No</td>\n",
       "      <td>Family Member</td>\n",
       "      <td>Yes</td>\n",
       "    </tr>\n",
       "    <tr>\n",
       "      <th>3</th>\n",
       "      <td>4</td>\n",
       "      <td>1</td>\n",
       "      <td>1</td>\n",
       "      <td>1</td>\n",
       "      <td>1</td>\n",
       "      <td>1</td>\n",
       "      <td>1</td>\n",
       "      <td>1</td>\n",
       "      <td>1</td>\n",
       "      <td>1</td>\n",
       "      <td>...</td>\n",
       "      <td>Yes</td>\n",
       "      <td>Yes</td>\n",
       "      <td>2</td>\n",
       "      <td>Yes</td>\n",
       "      <td>M</td>\n",
       "      <td>Hispanic</td>\n",
       "      <td>No</td>\n",
       "      <td>No</td>\n",
       "      <td>Family Member</td>\n",
       "      <td>Yes</td>\n",
       "    </tr>\n",
       "    <tr>\n",
       "      <th>4</th>\n",
       "      <td>5</td>\n",
       "      <td>1</td>\n",
       "      <td>1</td>\n",
       "      <td>0</td>\n",
       "      <td>1</td>\n",
       "      <td>1</td>\n",
       "      <td>1</td>\n",
       "      <td>1</td>\n",
       "      <td>1</td>\n",
       "      <td>1</td>\n",
       "      <td>...</td>\n",
       "      <td>Yes</td>\n",
       "      <td>Yes</td>\n",
       "      <td>1</td>\n",
       "      <td>Yes</td>\n",
       "      <td>F</td>\n",
       "      <td>White European</td>\n",
       "      <td>No</td>\n",
       "      <td>No</td>\n",
       "      <td>Family Member</td>\n",
       "      <td>Yes</td>\n",
       "    </tr>\n",
       "  </tbody>\n",
       "</table>\n",
       "<p>5 rows × 28 columns</p>\n",
       "</div>"
      ],
      "text/plain": [
       "   CASE_NO_PATIENT'S  A1  A2  A3  A4  A5  A6  A7  A8  A9  ...  \\\n",
       "0                  1   0   0   0   0   0   0   1   1   0  ...   \n",
       "1                  2   1   1   0   0   0   1   1   0   0  ...   \n",
       "2                  3   1   0   0   0   0   0   1   1   0  ...   \n",
       "3                  4   1   1   1   1   1   1   1   1   1  ...   \n",
       "4                  5   1   1   0   1   1   1   1   1   1  ...   \n",
       "\n",
       "   Global developmental delay/intellectual disability  \\\n",
       "0                                                Yes    \n",
       "1                                                Yes    \n",
       "2                                                Yes    \n",
       "3                                                Yes    \n",
       "4                                                Yes    \n",
       "\n",
       "   Social/Behavioural Issues  Childhood Autism Rating Scale  Anxiety_disorder  \\\n",
       "0                        Yes                              1               Yes   \n",
       "1                        Yes                              2               Yes   \n",
       "2                        Yes                              4               Yes   \n",
       "3                        Yes                              2               Yes   \n",
       "4                        Yes                              1               Yes   \n",
       "\n",
       "  Sex       Ethnicity Jaundice Family_mem_with_ASD Who_completed_the_test  \\\n",
       "0   F  middle eastern      Yes                  No          Family Member   \n",
       "1   M  White European      Yes                  No          Family Member   \n",
       "2   M  Middle Eastern      Yes                  No          Family Member   \n",
       "3   M        Hispanic       No                  No          Family Member   \n",
       "4   F  White European       No                  No          Family Member   \n",
       "\n",
       "  ASD_traits  \n",
       "0         No  \n",
       "1        Yes  \n",
       "2        Yes  \n",
       "3        Yes  \n",
       "4        Yes  \n",
       "\n",
       "[5 rows x 28 columns]"
      ]
     },
     "execution_count": 45,
     "metadata": {},
     "output_type": "execute_result"
    }
   ],
   "source": [
    "# Loading the necessary libraries\n",
    "import numpy as np\n",
    "import pandas as pd\n",
    "import matplotlib.pyplot as plt\n",
    "import seaborn as sns\n",
    "\n",
    "# setting an initial style\n",
    "plt.style.use('ggplot')\n",
    "\n",
    "# Loading the dataset\n",
    "asd = pd.read_csv(\"C:/Users/Ahmad/Desktop/Python/MLPractice/omdena-sl-autism/asd_omdena_data_csv.csv\")\n",
    "asd.head()"
   ]
  },
  {
   "attachments": {},
   "cell_type": "markdown",
   "metadata": {},
   "source": [
    "### Data Cleaning and Validation"
   ]
  },
  {
   "cell_type": "code",
   "execution_count": 46,
   "metadata": {},
   "outputs": [
    {
     "name": "stdout",
     "output_type": "stream",
     "text": [
      "<class 'pandas.core.frame.DataFrame'>\n",
      "RangeIndex: 1985 entries, 0 to 1984\n",
      "Data columns (total 28 columns):\n",
      " #   Column                                              Non-Null Count  Dtype  \n",
      "---  ------                                              --------------  -----  \n",
      " 0   CASE_NO_PATIENT'S                                   1985 non-null   int64  \n",
      " 1   A1                                                  1985 non-null   int64  \n",
      " 2   A2                                                  1985 non-null   int64  \n",
      " 3   A3                                                  1985 non-null   int64  \n",
      " 4   A4                                                  1985 non-null   int64  \n",
      " 5   A5                                                  1985 non-null   int64  \n",
      " 6   A6                                                  1985 non-null   int64  \n",
      " 7   A7                                                  1985 non-null   int64  \n",
      " 8   A8                                                  1985 non-null   int64  \n",
      " 9   A9                                                  1985 non-null   int64  \n",
      " 10  A10_Autism_Spectrum_Quotient                        1985 non-null   int64  \n",
      " 11  Social_Responsiveness_Scale                         1976 non-null   float64\n",
      " 12  Age_Years                                           1985 non-null   int64  \n",
      " 13  Qchat_10_Score                                      1946 non-null   float64\n",
      " 14  Speech Delay/Language Disorder                      1985 non-null   object \n",
      " 15  Learning disorder                                   1985 non-null   object \n",
      " 16  Genetic_Disorders                                   1985 non-null   object \n",
      " 17  Depression                                          1984 non-null   object \n",
      " 18  Global developmental delay/intellectual disability  1985 non-null   object \n",
      " 19  Social/Behavioural Issues                           1971 non-null   object \n",
      " 20  Childhood Autism Rating Scale                       1985 non-null   int64  \n",
      " 21  Anxiety_disorder                                    1985 non-null   object \n",
      " 22  Sex                                                 1985 non-null   object \n",
      " 23  Ethnicity                                           1985 non-null   object \n",
      " 24  Jaundice                                            1985 non-null   object \n",
      " 25  Family_mem_with_ASD                                 1985 non-null   object \n",
      " 26  Who_completed_the_test                              1985 non-null   object \n",
      " 27  ASD_traits                                          1985 non-null   object \n",
      "dtypes: float64(2), int64(13), object(13)\n",
      "memory usage: 434.3+ KB\n"
     ]
    }
   ],
   "source": [
    "asd.info()"
   ]
  },
  {
   "cell_type": "code",
   "execution_count": 47,
   "metadata": {},
   "outputs": [
    {
     "data": {
      "text/plain": [
       "Index(['CASE_NO_PATIENT'S', 'A1', 'A2', 'A3', 'A4', 'A5', 'A6', 'A7', 'A8',\n",
       "       'A9', 'A10_Autism_Spectrum_Quotient', 'Social_Responsiveness_Scale',\n",
       "       'Age_Years', 'Qchat_10_Score', 'Speech Delay/Language Disorder',\n",
       "       'Learning disorder', 'Genetic_Disorders', 'Depression',\n",
       "       'Global developmental delay/intellectual disability',\n",
       "       'Social/Behavioural Issues', 'Childhood Autism Rating Scale',\n",
       "       'Anxiety_disorder', 'Sex', 'Ethnicity', 'Jaundice',\n",
       "       'Family_mem_with_ASD', 'Who_completed_the_test', 'ASD_traits'],\n",
       "      dtype='object')"
      ]
     },
     "execution_count": 47,
     "metadata": {},
     "output_type": "execute_result"
    }
   ],
   "source": [
    "asd.columns"
   ]
  },
  {
   "cell_type": "code",
   "execution_count": 48,
   "metadata": {},
   "outputs": [
    {
     "data": {
      "text/html": [
       "<div>\n",
       "<style scoped>\n",
       "    .dataframe tbody tr th:only-of-type {\n",
       "        vertical-align: middle;\n",
       "    }\n",
       "\n",
       "    .dataframe tbody tr th {\n",
       "        vertical-align: top;\n",
       "    }\n",
       "\n",
       "    .dataframe thead th {\n",
       "        text-align: right;\n",
       "    }\n",
       "</style>\n",
       "<table border=\"1\" class=\"dataframe\">\n",
       "  <thead>\n",
       "    <tr style=\"text-align: right;\">\n",
       "      <th></th>\n",
       "      <th>count</th>\n",
       "      <th>mean</th>\n",
       "      <th>std</th>\n",
       "      <th>min</th>\n",
       "      <th>25%</th>\n",
       "      <th>50%</th>\n",
       "      <th>75%</th>\n",
       "      <th>max</th>\n",
       "    </tr>\n",
       "  </thead>\n",
       "  <tbody>\n",
       "    <tr>\n",
       "      <th>CASE_NO_PATIENT'S</th>\n",
       "      <td>1985.0</td>\n",
       "      <td>993.000000</td>\n",
       "      <td>573.164462</td>\n",
       "      <td>1.0</td>\n",
       "      <td>497.0</td>\n",
       "      <td>993.0</td>\n",
       "      <td>1489.0</td>\n",
       "      <td>1985.0</td>\n",
       "    </tr>\n",
       "    <tr>\n",
       "      <th>A1</th>\n",
       "      <td>1985.0</td>\n",
       "      <td>0.299244</td>\n",
       "      <td>0.458042</td>\n",
       "      <td>0.0</td>\n",
       "      <td>0.0</td>\n",
       "      <td>0.0</td>\n",
       "      <td>1.0</td>\n",
       "      <td>1.0</td>\n",
       "    </tr>\n",
       "    <tr>\n",
       "      <th>A2</th>\n",
       "      <td>1985.0</td>\n",
       "      <td>0.238287</td>\n",
       "      <td>0.426143</td>\n",
       "      <td>0.0</td>\n",
       "      <td>0.0</td>\n",
       "      <td>0.0</td>\n",
       "      <td>0.0</td>\n",
       "      <td>1.0</td>\n",
       "    </tr>\n",
       "    <tr>\n",
       "      <th>A3</th>\n",
       "      <td>1985.0</td>\n",
       "      <td>0.213098</td>\n",
       "      <td>0.409600</td>\n",
       "      <td>0.0</td>\n",
       "      <td>0.0</td>\n",
       "      <td>0.0</td>\n",
       "      <td>0.0</td>\n",
       "      <td>1.0</td>\n",
       "    </tr>\n",
       "    <tr>\n",
       "      <th>A4</th>\n",
       "      <td>1985.0</td>\n",
       "      <td>0.272040</td>\n",
       "      <td>0.445123</td>\n",
       "      <td>0.0</td>\n",
       "      <td>0.0</td>\n",
       "      <td>0.0</td>\n",
       "      <td>1.0</td>\n",
       "      <td>1.0</td>\n",
       "    </tr>\n",
       "    <tr>\n",
       "      <th>A5</th>\n",
       "      <td>1985.0</td>\n",
       "      <td>0.278589</td>\n",
       "      <td>0.448418</td>\n",
       "      <td>0.0</td>\n",
       "      <td>0.0</td>\n",
       "      <td>0.0</td>\n",
       "      <td>1.0</td>\n",
       "      <td>1.0</td>\n",
       "    </tr>\n",
       "    <tr>\n",
       "      <th>A6</th>\n",
       "      <td>1985.0</td>\n",
       "      <td>0.306297</td>\n",
       "      <td>0.461071</td>\n",
       "      <td>0.0</td>\n",
       "      <td>0.0</td>\n",
       "      <td>0.0</td>\n",
       "      <td>1.0</td>\n",
       "      <td>1.0</td>\n",
       "    </tr>\n",
       "    <tr>\n",
       "      <th>A7</th>\n",
       "      <td>1985.0</td>\n",
       "      <td>0.345088</td>\n",
       "      <td>0.475517</td>\n",
       "      <td>0.0</td>\n",
       "      <td>0.0</td>\n",
       "      <td>0.0</td>\n",
       "      <td>1.0</td>\n",
       "      <td>1.0</td>\n",
       "    </tr>\n",
       "    <tr>\n",
       "      <th>A8</th>\n",
       "      <td>1985.0</td>\n",
       "      <td>0.243829</td>\n",
       "      <td>0.429499</td>\n",
       "      <td>0.0</td>\n",
       "      <td>0.0</td>\n",
       "      <td>0.0</td>\n",
       "      <td>0.0</td>\n",
       "      <td>1.0</td>\n",
       "    </tr>\n",
       "    <tr>\n",
       "      <th>A9</th>\n",
       "      <td>1985.0</td>\n",
       "      <td>0.259950</td>\n",
       "      <td>0.438717</td>\n",
       "      <td>0.0</td>\n",
       "      <td>0.0</td>\n",
       "      <td>0.0</td>\n",
       "      <td>1.0</td>\n",
       "      <td>1.0</td>\n",
       "    </tr>\n",
       "    <tr>\n",
       "      <th>A10_Autism_Spectrum_Quotient</th>\n",
       "      <td>1985.0</td>\n",
       "      <td>0.446348</td>\n",
       "      <td>0.497238</td>\n",
       "      <td>0.0</td>\n",
       "      <td>0.0</td>\n",
       "      <td>0.0</td>\n",
       "      <td>1.0</td>\n",
       "      <td>1.0</td>\n",
       "    </tr>\n",
       "    <tr>\n",
       "      <th>Social_Responsiveness_Scale</th>\n",
       "      <td>1976.0</td>\n",
       "      <td>3.074393</td>\n",
       "      <td>3.680263</td>\n",
       "      <td>0.0</td>\n",
       "      <td>0.0</td>\n",
       "      <td>1.0</td>\n",
       "      <td>5.0</td>\n",
       "      <td>10.0</td>\n",
       "    </tr>\n",
       "    <tr>\n",
       "      <th>Age_Years</th>\n",
       "      <td>1985.0</td>\n",
       "      <td>9.624685</td>\n",
       "      <td>4.302416</td>\n",
       "      <td>1.0</td>\n",
       "      <td>7.0</td>\n",
       "      <td>9.0</td>\n",
       "      <td>14.0</td>\n",
       "      <td>18.0</td>\n",
       "    </tr>\n",
       "    <tr>\n",
       "      <th>Qchat_10_Score</th>\n",
       "      <td>1946.0</td>\n",
       "      <td>4.234841</td>\n",
       "      <td>2.898247</td>\n",
       "      <td>0.0</td>\n",
       "      <td>2.0</td>\n",
       "      <td>4.0</td>\n",
       "      <td>6.0</td>\n",
       "      <td>10.0</td>\n",
       "    </tr>\n",
       "    <tr>\n",
       "      <th>Childhood Autism Rating Scale</th>\n",
       "      <td>1985.0</td>\n",
       "      <td>1.701763</td>\n",
       "      <td>1.015367</td>\n",
       "      <td>1.0</td>\n",
       "      <td>1.0</td>\n",
       "      <td>1.0</td>\n",
       "      <td>2.0</td>\n",
       "      <td>4.0</td>\n",
       "    </tr>\n",
       "  </tbody>\n",
       "</table>\n",
       "</div>"
      ],
      "text/plain": [
       "                                count        mean         std  min    25%  \\\n",
       "CASE_NO_PATIENT'S              1985.0  993.000000  573.164462  1.0  497.0   \n",
       "A1                             1985.0    0.299244    0.458042  0.0    0.0   \n",
       "A2                             1985.0    0.238287    0.426143  0.0    0.0   \n",
       "A3                             1985.0    0.213098    0.409600  0.0    0.0   \n",
       "A4                             1985.0    0.272040    0.445123  0.0    0.0   \n",
       "A5                             1985.0    0.278589    0.448418  0.0    0.0   \n",
       "A6                             1985.0    0.306297    0.461071  0.0    0.0   \n",
       "A7                             1985.0    0.345088    0.475517  0.0    0.0   \n",
       "A8                             1985.0    0.243829    0.429499  0.0    0.0   \n",
       "A9                             1985.0    0.259950    0.438717  0.0    0.0   \n",
       "A10_Autism_Spectrum_Quotient   1985.0    0.446348    0.497238  0.0    0.0   \n",
       "Social_Responsiveness_Scale    1976.0    3.074393    3.680263  0.0    0.0   \n",
       "Age_Years                      1985.0    9.624685    4.302416  1.0    7.0   \n",
       "Qchat_10_Score                 1946.0    4.234841    2.898247  0.0    2.0   \n",
       "Childhood Autism Rating Scale  1985.0    1.701763    1.015367  1.0    1.0   \n",
       "\n",
       "                                 50%     75%     max  \n",
       "CASE_NO_PATIENT'S              993.0  1489.0  1985.0  \n",
       "A1                               0.0     1.0     1.0  \n",
       "A2                               0.0     0.0     1.0  \n",
       "A3                               0.0     0.0     1.0  \n",
       "A4                               0.0     1.0     1.0  \n",
       "A5                               0.0     1.0     1.0  \n",
       "A6                               0.0     1.0     1.0  \n",
       "A7                               0.0     1.0     1.0  \n",
       "A8                               0.0     0.0     1.0  \n",
       "A9                               0.0     1.0     1.0  \n",
       "A10_Autism_Spectrum_Quotient     0.0     1.0     1.0  \n",
       "Social_Responsiveness_Scale      1.0     5.0    10.0  \n",
       "Age_Years                        9.0    14.0    18.0  \n",
       "Qchat_10_Score                   4.0     6.0    10.0  \n",
       "Childhood Autism Rating Scale    1.0     2.0     4.0  "
      ]
     },
     "execution_count": 48,
     "metadata": {},
     "output_type": "execute_result"
    }
   ],
   "source": [
    "asd.describe().T"
   ]
  },
  {
   "cell_type": "code",
   "execution_count": 49,
   "metadata": {},
   "outputs": [
    {
     "data": {
      "text/plain": [
       "CASE_NO_PATIENT'S                                      0\n",
       "A1                                                     0\n",
       "A2                                                     0\n",
       "A3                                                     0\n",
       "A4                                                     0\n",
       "A5                                                     0\n",
       "A6                                                     0\n",
       "A7                                                     0\n",
       "A8                                                     0\n",
       "A9                                                     0\n",
       "A10_Autism_Spectrum_Quotient                           0\n",
       "Social_Responsiveness_Scale                            9\n",
       "Age_Years                                              0\n",
       "Qchat_10_Score                                        39\n",
       "Speech Delay/Language Disorder                         0\n",
       "Learning disorder                                      0\n",
       "Genetic_Disorders                                      0\n",
       "Depression                                             1\n",
       "Global developmental delay/intellectual disability     0\n",
       "Social/Behavioural Issues                             14\n",
       "Childhood Autism Rating Scale                          0\n",
       "Anxiety_disorder                                       0\n",
       "Sex                                                    0\n",
       "Ethnicity                                              0\n",
       "Jaundice                                               0\n",
       "Family_mem_with_ASD                                    0\n",
       "Who_completed_the_test                                 0\n",
       "ASD_traits                                             0\n",
       "dtype: int64"
      ]
     },
     "execution_count": 49,
     "metadata": {},
     "output_type": "execute_result"
    }
   ],
   "source": [
    "# Checking for duplication\n",
    "asd.duplicated().value_counts()\n",
    "\n",
    "# Checking for missing values\n",
    "asd.isna().sum()"
   ]
  },
  {
   "cell_type": "code",
   "execution_count": 50,
   "metadata": {},
   "outputs": [
    {
     "data": {
      "text/html": [
       "<div>\n",
       "<style scoped>\n",
       "    .dataframe tbody tr th:only-of-type {\n",
       "        vertical-align: middle;\n",
       "    }\n",
       "\n",
       "    .dataframe tbody tr th {\n",
       "        vertical-align: top;\n",
       "    }\n",
       "\n",
       "    .dataframe thead th {\n",
       "        text-align: right;\n",
       "    }\n",
       "</style>\n",
       "<table border=\"1\" class=\"dataframe\">\n",
       "  <thead>\n",
       "    <tr style=\"text-align: right;\">\n",
       "      <th></th>\n",
       "      <th>CASE_NO_PATIENT'S</th>\n",
       "      <th>A1</th>\n",
       "      <th>A2</th>\n",
       "      <th>A3</th>\n",
       "      <th>A4</th>\n",
       "      <th>A5</th>\n",
       "      <th>A6</th>\n",
       "      <th>A7</th>\n",
       "      <th>A8</th>\n",
       "      <th>A9</th>\n",
       "      <th>...</th>\n",
       "      <th>Global developmental delay/intellectual disability</th>\n",
       "      <th>Social/Behavioural Issues</th>\n",
       "      <th>Childhood Autism Rating Scale</th>\n",
       "      <th>Anxiety_disorder</th>\n",
       "      <th>Sex</th>\n",
       "      <th>Ethnicity</th>\n",
       "      <th>Jaundice</th>\n",
       "      <th>Family_mem_with_ASD</th>\n",
       "      <th>Who_completed_the_test</th>\n",
       "      <th>ASD_traits</th>\n",
       "    </tr>\n",
       "  </thead>\n",
       "  <tbody>\n",
       "    <tr>\n",
       "      <th>1055</th>\n",
       "      <td>1056</td>\n",
       "      <td>0</td>\n",
       "      <td>0</td>\n",
       "      <td>0</td>\n",
       "      <td>0</td>\n",
       "      <td>0</td>\n",
       "      <td>0</td>\n",
       "      <td>0</td>\n",
       "      <td>0</td>\n",
       "      <td>0</td>\n",
       "      <td>...</td>\n",
       "      <td>No</td>\n",
       "      <td>No</td>\n",
       "      <td>1</td>\n",
       "      <td>No</td>\n",
       "      <td>M</td>\n",
       "      <td>Asian</td>\n",
       "      <td>Yes</td>\n",
       "      <td>Yes</td>\n",
       "      <td>Health Care Professional</td>\n",
       "      <td>Yes</td>\n",
       "    </tr>\n",
       "    <tr>\n",
       "      <th>1065</th>\n",
       "      <td>1066</td>\n",
       "      <td>0</td>\n",
       "      <td>0</td>\n",
       "      <td>0</td>\n",
       "      <td>0</td>\n",
       "      <td>0</td>\n",
       "      <td>0</td>\n",
       "      <td>0</td>\n",
       "      <td>0</td>\n",
       "      <td>0</td>\n",
       "      <td>...</td>\n",
       "      <td>No</td>\n",
       "      <td>No</td>\n",
       "      <td>1</td>\n",
       "      <td>No</td>\n",
       "      <td>M</td>\n",
       "      <td>Asian</td>\n",
       "      <td>Yes</td>\n",
       "      <td>Yes</td>\n",
       "      <td>Family Member</td>\n",
       "      <td>Yes</td>\n",
       "    </tr>\n",
       "    <tr>\n",
       "      <th>1075</th>\n",
       "      <td>1076</td>\n",
       "      <td>0</td>\n",
       "      <td>0</td>\n",
       "      <td>0</td>\n",
       "      <td>0</td>\n",
       "      <td>0</td>\n",
       "      <td>0</td>\n",
       "      <td>0</td>\n",
       "      <td>0</td>\n",
       "      <td>0</td>\n",
       "      <td>...</td>\n",
       "      <td>No</td>\n",
       "      <td>No</td>\n",
       "      <td>1</td>\n",
       "      <td>No</td>\n",
       "      <td>M</td>\n",
       "      <td>Asian</td>\n",
       "      <td>Yes</td>\n",
       "      <td>Yes</td>\n",
       "      <td>Family Member</td>\n",
       "      <td>Yes</td>\n",
       "    </tr>\n",
       "    <tr>\n",
       "      <th>1085</th>\n",
       "      <td>1086</td>\n",
       "      <td>0</td>\n",
       "      <td>0</td>\n",
       "      <td>0</td>\n",
       "      <td>0</td>\n",
       "      <td>0</td>\n",
       "      <td>0</td>\n",
       "      <td>0</td>\n",
       "      <td>0</td>\n",
       "      <td>0</td>\n",
       "      <td>...</td>\n",
       "      <td>No</td>\n",
       "      <td>No</td>\n",
       "      <td>1</td>\n",
       "      <td>No</td>\n",
       "      <td>M</td>\n",
       "      <td>Asian</td>\n",
       "      <td>Yes</td>\n",
       "      <td>Yes</td>\n",
       "      <td>Family Member</td>\n",
       "      <td>Yes</td>\n",
       "    </tr>\n",
       "    <tr>\n",
       "      <th>1095</th>\n",
       "      <td>1096</td>\n",
       "      <td>0</td>\n",
       "      <td>0</td>\n",
       "      <td>0</td>\n",
       "      <td>0</td>\n",
       "      <td>0</td>\n",
       "      <td>0</td>\n",
       "      <td>0</td>\n",
       "      <td>0</td>\n",
       "      <td>0</td>\n",
       "      <td>...</td>\n",
       "      <td>No</td>\n",
       "      <td>No</td>\n",
       "      <td>1</td>\n",
       "      <td>No</td>\n",
       "      <td>M</td>\n",
       "      <td>Asian</td>\n",
       "      <td>Yes</td>\n",
       "      <td>Yes</td>\n",
       "      <td>Health Care Professional</td>\n",
       "      <td>Yes</td>\n",
       "    </tr>\n",
       "  </tbody>\n",
       "</table>\n",
       "<p>5 rows × 28 columns</p>\n",
       "</div>"
      ],
      "text/plain": [
       "      CASE_NO_PATIENT'S  A1  A2  A3  A4  A5  A6  A7  A8  A9  ...  \\\n",
       "1055               1056   0   0   0   0   0   0   0   0   0  ...   \n",
       "1065               1066   0   0   0   0   0   0   0   0   0  ...   \n",
       "1075               1076   0   0   0   0   0   0   0   0   0  ...   \n",
       "1085               1086   0   0   0   0   0   0   0   0   0  ...   \n",
       "1095               1096   0   0   0   0   0   0   0   0   0  ...   \n",
       "\n",
       "      Global developmental delay/intellectual disability  \\\n",
       "1055                                                 No    \n",
       "1065                                                 No    \n",
       "1075                                                 No    \n",
       "1085                                                 No    \n",
       "1095                                                 No    \n",
       "\n",
       "      Social/Behavioural Issues  Childhood Autism Rating Scale  \\\n",
       "1055                         No                              1   \n",
       "1065                         No                              1   \n",
       "1075                         No                              1   \n",
       "1085                         No                              1   \n",
       "1095                         No                              1   \n",
       "\n",
       "      Anxiety_disorder Sex Ethnicity Jaundice Family_mem_with_ASD  \\\n",
       "1055                No   M     Asian      Yes                 Yes   \n",
       "1065                No   M     Asian      Yes                 Yes   \n",
       "1075                No   M     Asian      Yes                 Yes   \n",
       "1085                No   M     Asian      Yes                 Yes   \n",
       "1095                No   M     Asian      Yes                 Yes   \n",
       "\n",
       "        Who_completed_the_test ASD_traits  \n",
       "1055  Health Care Professional        Yes  \n",
       "1065             Family Member        Yes  \n",
       "1075             Family Member        Yes  \n",
       "1085             Family Member        Yes  \n",
       "1095  Health Care Professional        Yes  \n",
       "\n",
       "[5 rows x 28 columns]"
      ]
     },
     "execution_count": 50,
     "metadata": {},
     "output_type": "execute_result"
    }
   ],
   "source": [
    "# Understanding the missing values in the column\n",
    "asd[asd.Qchat_10_Score.isna()].head()"
   ]
  },
  {
   "attachments": {},
   "cell_type": "markdown",
   "metadata": {},
   "source": [
    "We can see that the 10-Item Autism Spectrum QChat was not filled for rows where the Qchat_10_Score contained missing item, so I can drop the columns. Also, for other missing columns the no of rows seems inconsequential, and given the nature of the dataset, I will be dropping them."
   ]
  },
  {
   "cell_type": "code",
   "execution_count": 51,
   "metadata": {},
   "outputs": [
    {
     "data": {
      "text/plain": [
       "CASE_NO_PATIENT'S                                     0.000000\n",
       "A1                                                    0.000000\n",
       "A2                                                    0.000000\n",
       "A3                                                    0.000000\n",
       "A4                                                    0.000000\n",
       "A5                                                    0.000000\n",
       "A6                                                    0.000000\n",
       "A7                                                    0.000000\n",
       "A8                                                    0.000000\n",
       "A9                                                    0.000000\n",
       "A10_Autism_Spectrum_Quotient                          0.000000\n",
       "Social_Responsiveness_Scale                           0.453401\n",
       "Age_Years                                             0.000000\n",
       "Qchat_10_Score                                        1.964736\n",
       "Speech Delay/Language Disorder                        0.000000\n",
       "Learning disorder                                     0.000000\n",
       "Genetic_Disorders                                     0.000000\n",
       "Depression                                            0.050378\n",
       "Global developmental delay/intellectual disability    0.000000\n",
       "Social/Behavioural Issues                             0.705290\n",
       "Childhood Autism Rating Scale                         0.000000\n",
       "Anxiety_disorder                                      0.000000\n",
       "Sex                                                   0.000000\n",
       "Ethnicity                                             0.000000\n",
       "Jaundice                                              0.000000\n",
       "Family_mem_with_ASD                                   0.000000\n",
       "Who_completed_the_test                                0.000000\n",
       "ASD_traits                                            0.000000\n",
       "dtype: float64"
      ]
     },
     "execution_count": 51,
     "metadata": {},
     "output_type": "execute_result"
    }
   ],
   "source": [
    "# What percentage of the data is missing\n",
    "asd.isna().sum()/len(asd) * 100"
   ]
  },
  {
   "cell_type": "code",
   "execution_count": 52,
   "metadata": {},
   "outputs": [
    {
     "data": {
      "text/plain": [
       "(1923, 28)"
      ]
     },
     "execution_count": 52,
     "metadata": {},
     "output_type": "execute_result"
    }
   ],
   "source": [
    "# Dropping the missng values\n",
    "asd = asd.dropna(subset=['Social_Responsiveness_Scale', 'Depression', 'Qchat_10_Score', 'Social/Behavioural Issues'])\n",
    "asd.shape"
   ]
  },
  {
   "cell_type": "code",
   "execution_count": 53,
   "metadata": {},
   "outputs": [
    {
     "data": {
      "text/plain": [
       "Health Care Professional    1197\n",
       "Family Member                643\n",
       "Family member                 58\n",
       "School and NGO                18\n",
       "Self                           4\n",
       "Others                         3\n",
       "Name: Who_completed_the_test, dtype: int64"
      ]
     },
     "execution_count": 53,
     "metadata": {},
     "output_type": "execute_result"
    }
   ],
   "source": [
    "# Who completed the test?\n",
    "asd.Who_completed_the_test.value_counts()"
   ]
  },
  {
   "cell_type": "code",
   "execution_count": 61,
   "metadata": {},
   "outputs": [
    {
     "data": {
      "text/plain": [
       "Health Care Professional    1197\n",
       "Family Member                701\n",
       "Others                         7\n",
       "Name: Who_completed_the_test, dtype: int64"
      ]
     },
     "execution_count": 61,
     "metadata": {},
     "output_type": "execute_result"
    }
   ],
   "source": [
    "# Remapping the variables to clean the column\n",
    "asd[\"Who_completed_the_test\"] = asd[\"Who_completed_the_test\"].map({'Family member': 'Family Member',\n",
    "                                                                 'Family Member': 'Family Member',\n",
    "                                                                 'Health Care Professional': 'Health Care Professional',\n",
    "                                                                 'Health care professional': 'Health Care Professional',\n",
    "                                                                 'Self': 'Others',\n",
    "                                                                 'Others': 'Others'})\n",
    "asd.Who_completed_the_test.value_counts()                                                                 \n"
   ]
  },
  {
   "attachments": {},
   "cell_type": "markdown",
   "metadata": {},
   "source": [
    "### Exploratory Data Analysis"
   ]
  },
  {
   "attachments": {},
   "cell_type": "markdown",
   "metadata": {},
   "source": [
    "#### Univariate Analysis"
   ]
  },
  {
   "attachments": {},
   "cell_type": "markdown",
   "metadata": {},
   "source": [
    "QChat_10_Score column seems to be cummulative score of the A1 to A10, let's see it's distribution."
   ]
  },
  {
   "cell_type": "code",
   "execution_count": 55,
   "metadata": {},
   "outputs": [
    {
     "data": {
      "text/plain": [
       "<AxesSubplot:xlabel='Qchat_10_Score'>"
      ]
     },
     "execution_count": 55,
     "metadata": {},
     "output_type": "execute_result"
    },
    {
     "data": {
      "image/png": "[encoded data removed]",
      "text/plain": [
       "<Figure size 432x288 with 1 Axes>"
      ]
     },
     "metadata": {},
     "output_type": "display_data"
    }
   ],
   "source": [
    "sns.boxplot(data=asd, x='Qchat_10_Score')"
   ]
  },
  {
   "cell_type": "code",
   "execution_count": 56,
   "metadata": {},
   "outputs": [
    {
     "data": {
      "text/plain": [
       "<AxesSubplot:xlabel='Age_Years', ylabel='count'>"
      ]
     },
     "execution_count": 56,
     "metadata": {},
     "output_type": "execute_result"
    },
    {
     "data": {
      "image/png": "[encoded data removed]",
      "text/plain": [
       "<Figure size 432x288 with 1 Axes>"
      ]
     },
     "metadata": {},
     "output_type": "display_data"
    }
   ],
   "source": [
    "# Check the age distribution since we are interested in toddlers\n",
    "sns.countplot(data=asd, x='Age_Years')"
   ]
  },
  {
   "cell_type": "code",
   "execution_count": 57,
   "metadata": {},
   "outputs": [
    {
     "data": {
      "text/plain": [
       "[Text(0.5, 1.0, 'Ethnicity distribution')]"
      ]
     },
     "execution_count": 57,
     "metadata": {},
     "output_type": "execute_result"
    },
    {
     "data": {
      "image/png": "[encoded data removed]",
      "text/plain": [
       "<Figure size 432x288 with 1 Axes>"
      ]
     },
     "metadata": {},
     "output_type": "display_data"
    }
   ],
   "source": [
    "# Ethnicity in the data\n",
    "asd.Ethnicity.value_counts().plot(kind='pie').set(title= 'Ethnicity distribution')"
   ]
  },
  {
   "cell_type": "code",
   "execution_count": 58,
   "metadata": {},
   "outputs": [
    {
     "data": {
      "text/plain": [
       "([<matplotlib.patches.Wedge at 0x1e95e93e110>,\n",
       "  <matplotlib.patches.Wedge at 0x1e95e93f4c0>,\n",
       "  <matplotlib.patches.Wedge at 0x1e95e93f940>],\n",
       " [Text(-0.4316124998266185, 1.0117858716118828, 'Health Care Professional'),\n",
       "  Text(0.419903952515597, -1.0167008757062126, 'Family Member'),\n",
       "  Text(1.0999267047118233, -0.012698199155387037, 'Others')])"
      ]
     },
     "execution_count": 58,
     "metadata": {},
     "output_type": "execute_result"
    },
    {
     "data": {
      "image/png": "[encoded data removed]",
      "text/plain": [
       "<Figure size 432x288 with 1 Axes>"
      ]
     },
     "metadata": {},
     "output_type": "display_data"
    }
   ],
   "source": [
    "# We may also be interested in who completed the chat/test\n",
    "data = asd.Who_completed_the_test.value_counts()\n",
    "explode = (0.1, 0.0)\n",
    "plt.pie(data, labels=data.index)"
   ]
  },
  {
   "cell_type": "code",
   "execution_count": 59,
   "metadata": {},
   "outputs": [
    {
     "data": {
      "text/plain": [
       "<AxesSubplot:xlabel='Family_mem_with_ASD', ylabel='count'>"
      ]
     },
     "execution_count": 59,
     "metadata": {},
     "output_type": "execute_result"
    },
    {
     "data": {
      "image/png": "[encoded data removed]",
      "text/plain": [
       "<Figure size 2520x1440 with 9 Axes>"
      ]
     },
     "metadata": {},
     "output_type": "display_data"
    }
   ],
   "source": [
    "# There are a number of disorders/unique features highlighted in, lets check their distribution\n",
    "fig, axes = plt.subplots(3,3, figsize=(35,20))\n",
    "\n",
    "sns.countplot(data=asd, x='Speech Delay/Language Disorder', ax=axes[0,0])\n",
    "sns.countplot(data=asd, x='Learning disorder', ax=axes[0,1])\n",
    "sns.countplot(data=asd, x='Genetic_Disorders', ax=axes[0,2])\n",
    "sns.countplot(data=asd, x='Depression', ax=axes[1,0])\n",
    "sns.countplot(data=asd, x='Global developmental delay/intellectual disability', ax=axes[1,1])\n",
    "sns.countplot(data=asd, x='Social/Behavioural Issues', ax=axes[1,2])\n",
    "sns.countplot(data=asd, x='Anxiety_disorder', ax=axes[2,0])\n",
    "sns.countplot(data=asd, x='Genetic_Disorders', ax=axes[2,1])\n",
    "sns.countplot(data=asd, x='Family_mem_with_ASD', ax=axes[2,2])"
   ]
  },
  {
   "cell_type": "code",
   "execution_count": 60,
   "metadata": {},
   "outputs": [
    {
     "data": {
      "text/plain": [
       "<AxesSubplot:xlabel='ASD_traits', ylabel='count'>"
      ]
     },
     "execution_count": 60,
     "metadata": {},
     "output_type": "execute_result"
    },
    {
     "data": {
      "image/png": "[encoded data removed]",
      "text/plain": [
       "<Figure size 432x288 with 1 Axes>"
      ]
     },
     "metadata": {},
     "output_type": "display_data"
    }
   ],
   "source": [
    "# Checking the distribution of the target variable \"ASD Traits\"\n",
    "sns.countplot(data=asd, x='ASD_traits')"
   ]
  },
  {
   "attachments": {},
   "cell_type": "markdown",
   "metadata": {},
   "source": [
    "#### Bivariate Analysis"
   ]
  },
  {
   "cell_type": "code",
   "execution_count": null,
   "metadata": {},
   "outputs": [],
   "source": []
  }
 ],
 "metadata": {
  "kernelspec": {
   "display_name": "Python 3",
   "language": "python",
   "name": "python3"
  },
  "language_info": {
   "codemirror_mode": {
    "name": "ipython",
    "version": 3
   },
   "file_extension": ".py",
   "mimetype": "text/x-python",
   "name": "python",
   "nbconvert_exporter": "python",
   "pygments_lexer": "ipython3",
   "version": "3.10.4"
  },
  "orig_nbformat": 4,
  "vscode": {
   "interpreter": {
    "hash": "2d817fdef73540654b52e1392c7a5527d46da4eac411b9251d28efbe4d454d6d"
   }
  }
 },
 "nbformat": 4,
 "nbformat_minor": 2
}
